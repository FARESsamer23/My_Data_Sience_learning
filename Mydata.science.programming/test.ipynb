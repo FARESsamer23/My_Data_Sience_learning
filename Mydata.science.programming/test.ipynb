{
 "cells": [
  {
   "cell_type": "code",
   "execution_count": 1,
   "metadata": {},
   "outputs": [
    {
     "name": "stdout",
     "output_type": "stream",
     "text": [
      "[1, 2, 3, 4, 5, 6, 7, 8]\n"
     ]
    }
   ],
   "source": [
    "def fusion_A(T1, T2):\n",
    "    T3 = T1.copy()  # On initialise T3 avec les éléments de T1\n",
    "    for x in T2:  # Pour chaque élément dans T2\n",
    "        i = 0\n",
    "        # Trouver l'endroit où insérer x dans T3 pour respecter l'ordre croissant\n",
    "        while i < len(T3) and T3[i] < x:\n",
    "            i += 1\n",
    "        T3.insert(i, x)  # Insérer l'élément à la bonne position\n",
    "    return T3\n",
    "\n",
    "# Exemple\n",
    "T1 = [1, 3, 5, 7]\n",
    "T2 = [2, 4, 6, 8]\n",
    "T3 = fusion_A(T1, T2)\n",
    "print(T3)  # Résultat attendu : [1, 2, 3, 4, 5, 6, 7, 8]\n",
    "\n"
   ]
  },
  {
   "cell_type": "markdown",
   "metadata": {},
   "source": [
    "test :\n"
   ]
  },
  {
   "cell_type": "code",
   "execution_count": 2,
   "metadata": {},
   "outputs": [
    {
     "name": "stdout",
     "output_type": "stream",
     "text": [
      "[1, 2, 3, 4, 5, 6, 7, 8]\n"
     ]
    }
   ],
   "source": [
    "def fusion_B(T1, T2):\n",
    "    n = len(T1)\n",
    "    i1, i2 = 0, 0\n",
    "    T3 = []\n",
    "    \n",
    "    # Tant qu'on n'a pas atteint la fin d'un des tableaux\n",
    "    while i1 < n and i2 < n:\n",
    "        if T1[i1] < T2[i2]:\n",
    "            T3.append(T1[i1])  # Ajout de l'élément de T1\n",
    "            i1 += 1\n",
    "        elif T1[i1] > T2[i2]:\n",
    "            T3.append(T2[i2])  # Ajout de l'élément de T2\n",
    "            i2 += 1\n",
    "        else:  # Cas où les deux sont égaux\n",
    "            T3.append(T1[i1])\n",
    "            T3.append(T2[i2])\n",
    "            i1 += 1\n",
    "            i2 += 1\n",
    "    \n",
    "    # Ajouter les éléments restants de T1 ou T2\n",
    "    while i1 < n:\n",
    "        T3.append(T1[i1])\n",
    "        i1 += 1\n",
    "    \n",
    "    while i2 < n:\n",
    "        T3.append(T2[i2])\n",
    "        i2 += 1\n",
    "    \n",
    "    return T3\n",
    "\n",
    "# Exemple\n",
    "T1 = [1, 3, 5, 7]\n",
    "T2 = [2, 4, 6, 8]\n",
    "T3 = fusion_B(T1, T2)\n",
    "print(T3)  # Résultat attendu : [1, 2, 3, 4, 5, 6, 7, 8]"
   ]
  }
 ],
 "metadata": {
  "kernelspec": {
   "display_name": "Python 3",
   "language": "python",
   "name": "python3"
  },
  "language_info": {
   "codemirror_mode": {
    "name": "ipython",
    "version": 3
   },
   "file_extension": ".py",
   "mimetype": "text/x-python",
   "name": "python",
   "nbconvert_exporter": "python",
   "pygments_lexer": "ipython3",
   "version": "3.12.5"
  }
 },
 "nbformat": 4,
 "nbformat_minor": 2
}
