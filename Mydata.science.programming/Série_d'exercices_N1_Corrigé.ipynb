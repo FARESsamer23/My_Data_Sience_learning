{
  "cells": [
    {
      "cell_type": "markdown",
      "metadata": {
        "id": "M91CeRmZX4dq"
      },
      "source": [
        "1. Ecrire un programme qui retourne et affiche la plus petite valeur de deux valeurs lues  à\n",
        "partir d'un clavier."
      ]
    },
    {
      "cell_type": "code",
      "execution_count": null,
      "metadata": {
        "id": "UnDGH9WBX4dv",
        "outputId": "a2755e2b-9545-4ce6-c7c1-e825fb20826e"
      },
      "outputs": [
        {
          "name": "stdout",
          "output_type": "stream",
          "text": [
            "Entrez la première valeur7\n",
            "Entrez la deuxième valeur9\n",
            "le minimum des deux valeurs est: 7\n"
          ]
        }
      ],
      "source": [
        "\n",
        "a=int(input('Entrez la première valeur'))\n",
        "b= int(input('Entrez la deuxième valeur'))\n",
        "print('le minimum des deux valeurs est:', min(a,b))"
      ]
    },
    {
      "cell_type": "code",
      "execution_count": null,
      "metadata": {
        "id": "oqDvHhHvX4dx",
        "outputId": "5c98ca6b-f738-4a76-ff9b-d7b4f3a01e01"
      },
      "outputs": [
        {
          "name": "stdout",
          "output_type": "stream",
          "text": [
            "Entrez la première valeur9\n",
            "Entrez la deuxième valeur7\n",
            "le minimum des deux valeurs est: 7\n"
          ]
        }
      ],
      "source": [
        "a=int(input('Entrez la première valeur'))\n",
        "b= int(input('Entrez la deuxième valeur'))\n",
        "if (a<b):\n",
        "    print('le minimum des deux valeurs est:', a)\n",
        "else:\n",
        "    print('le minimum des deux valeurs est:', b)"
      ]
    },
    {
      "cell_type": "markdown",
      "metadata": {
        "id": "s4gnbvf1X4dy"
      },
      "source": [
        "2.Ecrire un programme qui  permet de lire deux chaînes de caractères à partir d'un  clavier et qui affiche la plus longue des deux."
      ]
    },
    {
      "cell_type": "code",
      "execution_count": null,
      "metadata": {
        "id": "ClO9ZNE5X4dz",
        "outputId": "119c2edc-f4bc-42e3-bcbf-d19150cfd06a"
      },
      "outputs": [
        {
          "name": "stdout",
          "output_type": "stream",
          "text": [
            "Entrez la première valeur : salut\n",
            "Entrez la deuxième valeur : bonjour\n",
            "le minimum des deux valeurs est: bonjour\n"
          ]
        },
        {
          "data": {
            "text/plain": [
              "7"
            ]
          },
          "execution_count": 3,
          "metadata": {},
          "output_type": "execute_result"
        }
      ],
      "source": [
        "a=input('Entrez la première valeur : ')\n",
        "b= input('Entrez la deuxième valeur : ')\n",
        "if (len(a)>len(b)):\n",
        "    print('le minimum des deux valeurs est:', a)\n",
        "else:\n",
        "    print('le minimum des deux valeurs est:', b)\n",
        "\n",
        "max(len(a),len(b))"
      ]
    },
    {
      "cell_type": "markdown",
      "metadata": {
        "id": "0l76OwUnX4dz"
      },
      "source": [
        "3.Ecrire un programme qui permet de convertir un montant  dollars en euros sachant que 1\n",
        "dollar = 0.92 euro"
      ]
    },
    {
      "cell_type": "code",
      "execution_count": null,
      "metadata": {
        "id": "xJEUdLmVX4dz",
        "outputId": "a0cfd934-92b3-4714-d120-76dd6a733be2"
      },
      "outputs": [
        {
          "name": "stdout",
          "output_type": "stream",
          "text": [
            "Type de devise $ ou E: E\n",
            "Montant : 50\n",
            "Le montant en dollars est:  54.347826086956516\n"
          ]
        }
      ],
      "source": [
        "taux_conversion=0.92\n",
        "devise= input('Type de devise $ ou E: ')\n",
        "montant = float(input('Montant : '))\n",
        "if(devise=='$'):\n",
        "    print('Le montant en euros est: ',(montant* taux_conversion) )\n",
        "elif(devise=='E'):\n",
        "    print('Le montant en dollars est: ',(montant/ taux_conversion))\n",
        "else:\n",
        "    print('Les devises sont uniquement le dollar et l''eau: ')\n"
      ]
    },
    {
      "cell_type": "code",
      "execution_count": null,
      "metadata": {
        "id": "bYxj3frpX4d0",
        "outputId": "67c747ce-848f-42ee-8237-99b35f2625bb"
      },
      "outputs": [
        {
          "name": "stdout",
          "output_type": "stream",
          "text": [
            "11.040000000000001\n"
          ]
        }
      ],
      "source": [
        "taux_conversion=0.92\n",
        "#devise= input('Type de devise : ')\n",
        "#montant = float(input('Montant : '))\n",
        "\n",
        "def convertir(devise, montant):\n",
        "    if(devise== \"dollar\"):\n",
        "        print(montant* taux_conversion)\n",
        "    elif(devise =='euro'):\n",
        "        print(montant/ taux_conversion)\n",
        "    else:\n",
        "        print('Les devises sont uniquement le dollar et l''euro: ')\n",
        "\n",
        "convertir('dollar', 12)"
      ]
    },
    {
      "cell_type": "markdown",
      "metadata": {
        "id": "NVQd1DOoX4d0"
      },
      "source": [
        "4.Ecrire un programme qui affiche en fonction d'une valeur saisie l'un des messages suivants:\n",
        "* Ce nombre est pair\n",
        "* Ce nombre est impair et multiple de 5\n",
        "* Ce nombre n'est ni pair ni multiple de 5\n"
      ]
    },
    {
      "cell_type": "code",
      "execution_count": null,
      "metadata": {
        "id": "0gGzmryYX4d1",
        "outputId": "546b6921-e561-425a-f2f7-d5d4c496e7e1"
      },
      "outputs": [
        {
          "name": "stdout",
          "output_type": "stream",
          "text": [
            "Entrez la valeur: 5\n",
            "Ce nombre est impair\n"
          ]
        }
      ],
      "source": [
        "val = float(input('Entrez la valeur: '))\n",
        "if(val%2==0):\n",
        "    print('Ce nombre est pair')\n",
        "else:\n",
        "    print('Ce nombre est impair')"
      ]
    },
    {
      "cell_type": "code",
      "execution_count": null,
      "metadata": {
        "id": "SDeu426ZX4d1",
        "outputId": "48cb3ee1-0cfd-4853-fbc8-752ece48ff3c"
      },
      "outputs": [
        {
          "name": "stdout",
          "output_type": "stream",
          "text": [
            "Entrez la valeur: 21\n",
            "Ce nombre nest ni pair ni multiple de 5\n"
          ]
        }
      ],
      "source": [
        "val = float(input('Entrez la valeur: '))\n",
        "if(val%2==0):\n",
        "    print('Ce nombre est pair')\n",
        "elif (val%5==0):\n",
        "    print('Ce nombre est impair et multiple de 5')\n",
        "else:\n",
        "    print('Ce nombre n''est ni pair ni multiple de 5')"
      ]
    },
    {
      "cell_type": "code",
      "execution_count": null,
      "metadata": {
        "id": "FS5elSIOX4d1",
        "outputId": "fd797809-cde4-4fc1-88fd-383a9045690a"
      },
      "outputs": [
        {
          "name": "stdout",
          "output_type": "stream",
          "text": [
            "impair et pas multiple de 5\n"
          ]
        }
      ],
      "source": [
        "def func(val):\n",
        "    if(val%2 == 0):\n",
        "        print(\"pair\")\n",
        "    elif( (val%2 !=0) and (val % 5 ==0)):\n",
        "        print(\"impair et multiple de 5\")\n",
        "    else:\n",
        "        print('impair et pas multiple de 5')\n",
        "\n",
        "func(21)"
      ]
    },
    {
      "cell_type": "markdown",
      "metadata": {
        "id": "kee9n5e-X4d2"
      },
      "source": [
        "5.Ecrire un programme qui affiche les tables de multiplications de 5 à 10 en utilisant une\n",
        "boucle imbriquée et la fonction range."
      ]
    },
    {
      "cell_type": "code",
      "execution_count": null,
      "metadata": {
        "collapsed": true,
        "id": "ahA9e151X4d2",
        "outputId": "00d6d368-c788-4de1-fb2a-7c655ab9350b"
      },
      "outputs": [
        {
          "name": "stdout",
          "output_type": "stream",
          "text": [
            "Table de multiplications du nombre  5\n",
            " , 0\n",
            " , 5\n",
            " , 10\n",
            " , 15\n",
            " , 20\n",
            " , 25\n",
            " , 30\n",
            " , 35\n",
            " , 40\n",
            " , 45\n",
            "Table de multiplications du nombre  6\n",
            " , 0\n",
            " , 6\n",
            " , 12\n",
            " , 18\n",
            " , 24\n",
            " , 30\n",
            " , 36\n",
            " , 42\n",
            " , 48\n",
            " , 54\n",
            "Table de multiplications du nombre  7\n",
            " , 0\n",
            " , 7\n",
            " , 14\n",
            " , 21\n",
            " , 28\n",
            " , 35\n",
            " , 42\n",
            " , 49\n",
            " , 56\n",
            " , 63\n",
            "Table de multiplications du nombre  8\n",
            " , 0\n",
            " , 8\n",
            " , 16\n",
            " , 24\n",
            " , 32\n",
            " , 40\n",
            " , 48\n",
            " , 56\n",
            " , 64\n",
            " , 72\n",
            "Table de multiplications du nombre  9\n",
            " , 0\n",
            " , 9\n",
            " , 18\n",
            " , 27\n",
            " , 36\n",
            " , 45\n",
            " , 54\n",
            " , 63\n",
            " , 72\n",
            " , 81\n"
          ]
        }
      ],
      "source": [
        "for i in range(5,10):\n",
        "    print('Table de multiplications du nombre ',i)\n",
        "    for j in range(10):\n",
        "        print (' ,', i*j)"
      ]
    },
    {
      "cell_type": "markdown",
      "metadata": {
        "id": "YpS1FWsyX4d2"
      },
      "source": [
        "6.Le pgcd (Plus Grand Commun Diviseur) de deux nombres par soustractions successives.\n",
        "*  pgcd (a, b)= pgcd (a− b, a) si a> b\n",
        "*  pgcd (a, b)= pgcd (a,b − a) si b >a\n",
        "*  pgcd (a, b)= a si a = b\n",
        "On suppose que les opérandes sont  des entiers positifs, écrire un programme qui permet de\n",
        "calculer le PGCD de deux nombres a et b"
      ]
    },
    {
      "cell_type": "code",
      "execution_count": null,
      "metadata": {
        "id": "oAOc4eSLX4d3",
        "outputId": "e39908a7-4c4a-4da8-c6f9-969a33a4eb3e"
      },
      "outputs": [
        {
          "data": {
            "text/plain": [
              "10"
            ]
          },
          "execution_count": 11,
          "metadata": {},
          "output_type": "execute_result"
        }
      ],
      "source": [
        "#a=int(input(\"a=\"))\n",
        "# b=int(input(\"b=\"))\n",
        "a=30\n",
        "b=10\n",
        "pgcd=0;\n",
        "if(a!=b):\n",
        "    while max(a,b) - min(a,b) > 0 :\n",
        "        if a>b:\n",
        "            a=abs(a-b)\n",
        "        else:\n",
        "            b=abs(b-a)\n",
        "    pgcd=a\n",
        "\n",
        "else:\n",
        "    pgcd=a\n",
        "pgcd\n"
      ]
    },
    {
      "cell_type": "markdown",
      "metadata": {
        "id": "YpWfh2M2X4d3"
      },
      "source": [
        "7.Écrire un programme qui affiche N entiers et calcule leur somme et leur moyenne"
      ]
    },
    {
      "cell_type": "code",
      "execution_count": null,
      "metadata": {
        "id": "HzffTjfsX4d4",
        "outputId": "f8dc61ef-c243-4b76-a2c6-22e00177656b"
      },
      "outputs": [
        {
          "name": "stdout",
          "output_type": "stream",
          "text": [
            "N: 7\n",
            "[1, 2, 3, 4, 5, 6] 21 3.5\n"
          ]
        }
      ],
      "source": [
        "a = int(input('N: '))\n",
        "liste=list(range(1,a))\n",
        "print(liste, sum(liste), (sum(liste)/len(liste)))"
      ]
    },
    {
      "cell_type": "markdown",
      "metadata": {
        "id": "NP1mCHevX4d4"
      },
      "source": [
        "8 Ecrire un programme qui initialise une liste de chaîne de caractères; et pour chaque élément\n",
        "de cette liste, il donne la taille de cet élément"
      ]
    },
    {
      "cell_type": "code",
      "execution_count": null,
      "metadata": {
        "id": "pda36gXwX4d4",
        "outputId": "95c4a830-c030-4fa2-e62f-be328c7b76d3"
      },
      "outputs": [
        {
          "name": "stdout",
          "output_type": "stream",
          "text": [
            "Element :  sun  sa taille est :  3\n",
            "Element :  moon  sa taille est :  4\n",
            "Element :  stars  sa taille est :  5\n",
            "Element :  jupyter  sa taille est :  7\n",
            "Element :  sun  sa taille est :  3\n",
            "Element :  moon  sa taille est :  4\n",
            "Element :  stars  sa taille est :  5\n",
            "Element :  jupyter  sa taille est :  7\n"
          ]
        }
      ],
      "source": [
        "liste =['sun', 'moon','stars','jupyter']\n",
        "\n",
        "for element in liste:\n",
        "    print('Element : ',element,' sa taille est : ', len(element))\n",
        "\n",
        "for i in range(len(liste)):\n",
        "    print('Element : ',liste[i],' sa taille est : ', len(liste[i]))"
      ]
    },
    {
      "cell_type": "markdown",
      "metadata": {
        "id": "OXmHcRaqX4d4"
      },
      "source": [
        "9.On considèrera un tableau initialisé avec 10 valeurs aléatoires.  Le programme permet de\n",
        "trouver si la valeur saisie par l’utilisateur est dans le tableau ou pas. Le programme parcourt la\n",
        "liste des valeurs en la comparant une à une à la valeur saisie, et sort de la boucle :\n",
        "— soit quand il a parcouru toute la liste sans trouver la valeur\n",
        "— soit quand la valeur a été trouvée\n",
        "Si la valeur a été trouvée, le programme affiche ”Gagné” ainsi que le nombre d'occurrence de\n",
        "la valeur , sinon, le programme annonce ”Perdu"
      ]
    },
    {
      "cell_type": "code",
      "execution_count": null,
      "metadata": {
        "id": "UuRanKO0X4d5",
        "outputId": "7999541b-80ac-4198-878d-54b34c839c68"
      },
      "outputs": [
        {
          "data": {
            "text/plain": [
              "[8, 1, 1, 1, 3, 5, 7, 1, 7, 3]"
            ]
          },
          "execution_count": 7,
          "metadata": {},
          "output_type": "execute_result"
        }
      ],
      "source": [
        "import random\n",
        "taille_T=10\n",
        "liste=[random.randint(1,taille_T) for i in range(taille_T)]\n",
        "liste"
      ]
    },
    {
      "cell_type": "code",
      "execution_count": null,
      "metadata": {
        "id": "vAvVK3mCX4d5"
      },
      "outputs": [],
      "source": [
        "liste=[]\n",
        "for i in range(taille_T):\n",
        "    liste.append(random.randint(1,taille_T))"
      ]
    },
    {
      "cell_type": "code",
      "execution_count": null,
      "metadata": {
        "id": "jrcsid0IX4d5",
        "outputId": "bf3b6473-ef0a-43ff-dd35-78f9189bc00c"
      },
      "outputs": [
        {
          "name": "stdout",
          "output_type": "stream",
          "text": [
            "[9, 4, 9, 8, 9, 8, 9, 6, 4, 8]\n",
            "triée [4, 4, 6, 8, 8, 8, 9, 9, 9, 9]\n",
            "Nombre entre 1 et 10 : 9\n",
            "Gagné\n",
            "nombre doccurence  4\n"
          ]
        }
      ],
      "source": [
        "import random\n",
        "liste=[]\n",
        "#for i in range(10):#    liste.append(random.randint(1,10))\n",
        "taille_T=10\n",
        "#for i in range(taille_T):\n",
        "#    liste[i]=random.randint(1,taille_T)\n",
        "liste=[random.randint(1,taille_T) for i in range(taille_T)]\n",
        "#trier le tableau\n",
        "print(liste)\n",
        "liste.sort()\n",
        "print('triée', liste)\n",
        "val= int(input('Nombre entre 1 et 10 : '))\n",
        "i=0\n",
        "found=False\n",
        "while((i<taille_T)):\n",
        "    if liste[i]==val:\n",
        "        found=True\n",
        "    i+=1\n",
        "\n",
        "\n",
        "if found==True:\n",
        "    print('Gagné')\n",
        "    print('nombre d''occurence ',liste.count(val) )\n",
        "else:\n",
        "    print('Perdu')\n"
      ]
    },
    {
      "cell_type": "code",
      "execution_count": null,
      "metadata": {
        "id": "WDb87MeZX4d5",
        "outputId": "b2448d48-a4fc-4900-eb71-9de3d0a6d62c"
      },
      "outputs": [
        {
          "name": "stdout",
          "output_type": "stream",
          "text": [
            "Gagné\n",
            "nombre doccurence  4\n"
          ]
        }
      ],
      "source": [
        "if val in liste:\n",
        "    print('Gagné')\n",
        "    print('nombre d''occurence ',liste.count(val) )\n",
        "else:\n",
        "    print('Perdu')"
      ]
    },
    {
      "cell_type": "markdown",
      "metadata": {
        "id": "EoWTYb9oX4d5"
      },
      "source": [
        "10.On considèrera un tableau initialisé avec 10 valeurs aléatoires.    Le programme trie les\n",
        "valeurs tirées au sort, puis parcourt la liste des valeurs en  la comparant une  à une à la valeur\n",
        "cherchée. Il sort de la boucle :\n",
        "— soit quand il a parcouru toute la liste sans trouver la valeur\n",
        "— soit quand la valeur lue dans la liste est supérieure à la saisie\n",
        "Si la valeur a été trouvée, le programme annonce ”Gagné”, sinon, le programme annonce\n",
        "”Perdu”."
      ]
    },
    {
      "cell_type": "code",
      "execution_count": null,
      "metadata": {
        "id": "NLmzTyQUX4d5",
        "outputId": "472e048f-fb0b-4c91-a814-1de9cec69a6d"
      },
      "outputs": [
        {
          "name": "stdout",
          "output_type": "stream",
          "text": [
            "[5, 2, 7, 1, 8, 7, 2, 1, 10, 10]\n",
            "Nombre entre 1 et 10 : 5\n",
            "Gagné\n"
          ]
        }
      ],
      "source": [
        "import random\n",
        "liste=[]\n",
        "#for i in range(10):\n",
        "#    liste.append(random.randint(1,10))\n",
        "taille_T=10\n",
        "liste=[random.randint(1,taille_T) for i in range(taille_T)]\n",
        "#trier le tableau\n",
        "print(liste)\n",
        "liste.sort()\n",
        "val= int(input('Nombre entre 1 et 10 : '))\n",
        "i=0\n",
        "while((i<taille_T) and (liste[i]<val)):\n",
        "      i+=1\n",
        "if liste[i]==val:\n",
        "      print('Gagné')\n",
        "else:\n",
        "      print('Perdu')"
      ]
    },
    {
      "cell_type": "markdown",
      "metadata": {
        "id": "Y6gK0jDvX4d5"
      },
      "source": [
        "11.Écrire une  fonction  qui calcule la factorielle de n.  En mathématiques, la factorielle d’un\n",
        "entier naturel n est le produit des nombres entiers strictement  positifs inférieurs ou égaux  à n.\n",
        "La factorielle est notée \"!\", exemple : 6! = 6 * 5 * 4 * 3 * 2 * 1. La factorielle est utilisée pour\n",
        "dénombrer le nombre de permutations possibles de n éléments."
      ]
    },
    {
      "cell_type": "code",
      "execution_count": null,
      "metadata": {
        "colab": {
          "base_uri": "https://localhost:8080/"
        },
        "id": "9as1-PYaX4d6",
        "outputId": "9b86e696-a480-4233-8730-dca363f01a0a"
      },
      "outputs": [
        {
          "output_type": "stream",
          "name": "stdout",
          "text": [
            "Nombre :7\n",
            "5040\n"
          ]
        }
      ],
      "source": [
        "def fact(val):\n",
        "    mylist=list(range(1,val+1))\n",
        "\n",
        "    prod=1\n",
        "    for x in mylist:\n",
        "        prod = prod * x\n",
        "    return prod\n",
        "\n",
        "val= int(input('Nombre :'))\n",
        "if(val!=0):\n",
        "    print(fact(val))\n"
      ]
    },
    {
      "cell_type": "code",
      "execution_count": null,
      "metadata": {
        "id": "JtjVBzWsX4d6",
        "outputId": "78e1fbe5-35d7-4ad1-db3a-ddf6646b9b06"
      },
      "outputs": [
        {
          "data": {
            "text/plain": [
              "[1, 2, 3, 4, 5, 6, 7, 8, 9]"
            ]
          },
          "execution_count": 11,
          "metadata": {},
          "output_type": "execute_result"
        }
      ],
      "source": [
        "val=9\n",
        "list(range(1,val+1))"
      ]
    },
    {
      "cell_type": "markdown",
      "metadata": {
        "id": "zRxsTXF7X4d6"
      },
      "source": [
        "12.Écrire un programme qui calcule les n premiers éléments de la suite de Fibbonacci.\n",
        "La suite de Fibonacci est une suite d’entiers dans laquelle chaque terme est la somme des deux\n",
        "termes qui le précèdent. Elle commence généralement par les termes 0 et 1 (parfois 1 et 1) et ses\n",
        "premiers termes sont : 0, 1, 1, 2, 3, 5, 8, 13, 21, etc"
      ]
    },
    {
      "cell_type": "code",
      "execution_count": null,
      "metadata": {
        "id": "-upANnVSX4d6",
        "outputId": "dbd2ff3d-c738-4219-a12f-833ad9d0ccbe"
      },
      "outputs": [
        {
          "name": "stdout",
          "output_type": "stream",
          "text": [
            "Nombre :7\n",
            "0\n",
            "1\n",
            "1\n",
            "2\n",
            "3\n",
            "5\n",
            "8\n"
          ]
        }
      ],
      "source": [
        "def fibbonacci(n):\n",
        "    if n==0:\n",
        "        return 0\n",
        "    if n==1:\n",
        "        return 1\n",
        "    else:\n",
        "        return (fibbonacci (n-2) + fibbonacci (n-1))\n",
        "val= int(input('Nombre :'))\n",
        "for i in range (0,val):\n",
        "    print(fibbonacci(i))"
      ]
    }
  ],
  "metadata": {
    "kernelspec": {
      "display_name": "Python 3",
      "language": "python",
      "name": "python3"
    },
    "language_info": {
      "codemirror_mode": {
        "name": "ipython",
        "version": 3
      },
      "file_extension": ".py",
      "mimetype": "text/x-python",
      "name": "python",
      "nbconvert_exporter": "python",
      "pygments_lexer": "ipython3",
      "version": "3.8.8"
    },
    "colab": {
      "provenance": []
    }
  },
  "nbformat": 4,
  "nbformat_minor": 0
}